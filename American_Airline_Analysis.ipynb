{
 "cells": [
  {
   "cell_type": "markdown",
   "metadata": {},
   "source": [
    "# American_Airline_Analysis\n",
    "\n",
    "as presented by: Nateé Johnson & Joe McAllister"
   ]
  },
  {
   "cell_type": "markdown",
   "metadata": {},
   "source": [
    "## Data Sources\n",
    "\n",
    "https://www.bts.gov/topics/airlines-and-airports/understanding-reporting-causes-flight-delays-and-cancellations\n",
    "\n",
    "https://www.transtats.bts.gov/DL_SelectFields.asp?Table_ID=236"
   ]
  },
  {
   "cell_type": "markdown",
   "metadata": {},
   "source": [
    "## IMPORTant Libraries/Configs\n"
   ]
  },
  {
   "cell_type": "code",
   "execution_count": null,
   "metadata": {},
   "outputs": [],
   "source": [
    "import matplotlib.pyplot as plt\n",
    "import numpy as np\n",
    "import pandas as pd\n",
    "import seaborn as sns\n",
    "from scipy import stats\n",
    "from scipy.stats import norm\n",
    "import statsmodels\n",
    "import statsmodels.stats\n",
    "import statsmodels.stats.proportion\n",
    "\n",
    "\n",
    "sns.set_style('whitegrid')\n",
    "%config InlineBackend.figure_format = 'retina'\n",
    "%matplotlib inline\n",
    "pd.options.display.max_columns = None"
   ]
  },
  {
   "cell_type": "markdown",
   "metadata": {},
   "source": [
    "## IMPORTant Functions & Data\n",
    "\n",
    "figure out syntax for important functions from single python file "
   ]
  },
  {
   "cell_type": "code",
   "execution_count": null,
   "metadata": {},
   "outputs": [],
   "source": []
  },
  {
   "cell_type": "code",
   "execution_count": null,
   "metadata": {},
   "outputs": [],
   "source": [
    "## Defining variable:\n",
    "\n",
    "\n"
   ]
  },
  {
   "cell_type": "code",
   "execution_count": null,
   "metadata": {},
   "outputs": [],
   "source": []
  },
  {
   "cell_type": "code",
   "execution_count": null,
   "metadata": {},
   "outputs": [],
   "source": []
  },
  {
   "cell_type": "markdown",
   "metadata": {},
   "source": [
    "# Plot customer ratings"
   ]
  },
  {
   "cell_type": "code",
   "execution_count": null,
   "metadata": {},
   "outputs": [],
   "source": [
    "airline=['American','Delta','United','Southwest', 'Spirit']\n",
    "ratings=[3,5,3,5,3]\n",
    "\n",
    "plt.figure(figsize=(5,3))\n",
    "\n",
    "sns.barplot(airline, ratings).set_title('Customer Ratings out of 10')\n",
    "plt.ylim(0,10)\n",
    "plt.savefig('ratings')"
   ]
  },
  {
   "cell_type": "markdown",
   "metadata": {},
   "source": [
    "## Checking out distributions of raw data"
   ]
  },
  {
   "cell_type": "code",
   "execution_count": null,
   "metadata": {},
   "outputs": [],
   "source": [
    "sns.set(color_codes=True)\n",
    "sns.set(rc={'figure.figsize':(12,10)})\n",
    "sns.distplot(AA.CARRIER_DELAY.loc[AA.ARR_DEL15 == 1], bins = range(0,250, 10))\n",
    "\n",
    "sns.set(color_codes=True)\n",
    "sns.set(rc={'figure.figsize':(12,10)})\n",
    "sns.set_style(\"ticks\", {\"xtick.major.size\":50, \"ytick.major.size\":50})\n",
    "ax = sns.distplot(AA.CARRIER_DELAY.loc[(AA.ARR_DEL15 == 1) & (AA.CARRIER_DELAY != 0)], bins = range(0,250, 10))\n",
    "ax.set_title('American Airlines - Carrier Delay Time Distribution', {'fontsize': 20,\n",
    "        'fontweight' : 12,\n",
    "        'verticalalignment': 'baseline'})\n",
    "ax.set_xlabel('Delay Times (minutes)', fontdict={'fontsize' : 15})"
   ]
  },
  {
   "cell_type": "code",
   "execution_count": null,
   "metadata": {},
   "outputs": [],
   "source": [
    "sns.set(color_codes=True)\n",
    "sns.set(rc={'figure.figsize':(12,10)})\n",
    "sns.distplot(pop.CARRIER_DELAY.loc[pop.ARR_DEL15 == 1], bins = range(0,250, 10))\n",
    "\n",
    "sns.set(color_codes=True)\n",
    "sns.set(rc={'figure.figsize':(12,10)})\n",
    "sns.distplot(pop.CARRIER_DELAY.loc[(pop.ARR_DEL15 == 1) & (pop.CARRIER_DELAY != 0)], bins = range(0,250, 10))"
   ]
  },
  {
   "cell_type": "markdown",
   "metadata": {},
   "source": [
    "Looking a distribution of AA sample and total carrier population it doesn't appear to have a normal distribution. I believe we should use Welch's t-test to compare the means of the sample and population - specifically whether or not AA's avg carrier delay time is greater than the population's."
   ]
  },
  {
   "cell_type": "markdown",
   "metadata": {},
   "source": [
    "# Graph cancelled flights AA v Top 3 v All others"
   ]
  },
  {
   "cell_type": "code",
   "execution_count": null,
   "metadata": {},
   "outputs": [],
   "source": [
    "top_3_prop = calc_prop(top_3_df, 'cancelled')\n",
    "AA_prop = calc_prop(AA_df, 'cancelled')\n",
    "not_AA_prop = calc_prop(not_AA_df, 'cancelled')\n",
    "not_top_4_prop = calc_prop(not_top_4_df, 'cancelled')\n",
    "\n",
    "plt.figure(figsize=(10,6))\n",
    "sns.barplot(['American', 'Delta/United/Southwest', 'all others'], [AA_prop[0], top_3_prop[0], not_top_4_prop[0]]).set_title('Proportion of flights cancelled')\n",
    "sns.set(context='poster')\n",
    "plt.savefig('proportion_flights_cancelled_AA_Top3')"
   ]
  },
  {
   "cell_type": "markdown",
   "metadata": {},
   "source": [
    "# Graph delayed flights"
   ]
  },
  {
   "cell_type": "code",
   "execution_count": null,
   "metadata": {},
   "outputs": [],
   "source": [
    "## proportions are commented out - these will be calculated in the t-test and are not needed.  \n",
    "AA_prop_delay = calc_prop(AA_df, 'delayed')\n",
    "not_AA_prop_delay = calc_prop(not_AA_df, 'delayed')\n",
    "top_3_prop_delay = calc_prop(top_3_df, 'delayed')\n",
    "not_top_4_prop_delay = calc_prop(not_top_4_df, 'delayed')\n",
    "\n",
    "plt.figure(figsize=(10,6))\n",
    "sns.barplot(['American', 'all others'], [AA_prop_delay[0], not_AA_prop_delay[0]]).set_title('Proportion of flights delayed')\n",
    "sns.set(context='poster')"
   ]
  },
  {
   "cell_type": "markdown",
   "metadata": {},
   "source": [
    "# Graph proportion delayed flights American v top 3 v all others"
   ]
  },
  {
   "cell_type": "code",
   "execution_count": null,
   "metadata": {},
   "outputs": [],
   "source": [
    "plt.figure(figsize=(10,6))\n",
    "sns.barplot(['American', 'Delta/United/Southwest', 'all others'], [AA_prop_delay[0], top_3_prop_delay[0], not_top_4_prop_delay[0]]).set_title('Proportion of flights delayed')\n",
    "sns.set(context='poster')"
   ]
  },
  {
   "cell_type": "markdown",
   "metadata": {},
   "source": [
    "# Proportions Z-Test! Now we get to the good stuff!"
   ]
  },
  {
   "cell_type": "code",
   "execution_count": null,
   "metadata": {},
   "outputs": [],
   "source": [
    "AA_prop_delay[0],not_AA_prop_delay[0], AA_prop_delay[1],not_AA_prop_delay[1]"
   ]
  },
  {
   "cell_type": "code",
   "execution_count": null,
   "metadata": {},
   "outputs": [],
   "source": [
    "zstat, pvalue = statsmodels.stats.proportion.proportions_ztest(count=[AA_prop_delay[2],not_AA_prop_delay[2]], nobs=[AA_prop_delay[1],not_AA_prop_delay[1]])\n",
    "zstat, pvalue"
   ]
  },
  {
   "cell_type": "markdown",
   "metadata": {},
   "source": [
    "P is approximatley zero so reject the null - difference between two proportions is significant. "
   ]
  },
  {
   "cell_type": "markdown",
   "metadata": {},
   "source": [
    "## Method Review: \n",
    "\n",
    "- Isolated key data of interest (Carrier_Delay)\n",
    "- Resample this data using \"central limit theorem plotter\" function\n",
    "- Save resampled distribution as variable\n",
    "- Use saved var in Welchs_t, Welchs_df, and P functions. Then compare to using |stats.ttest_ind(group1, group2, equal_var=False)\n",
    "- Use Cohen's D to find how different they are"
   ]
  },
  {
   "cell_type": "markdown",
   "metadata": {},
   "source": [
    "### Welch's t-test on raw data"
   ]
  },
  {
   "cell_type": "code",
   "execution_count": null,
   "metadata": {},
   "outputs": [],
   "source": [
    "## Series needed for Welch's functions\n",
    "AA_C_Delays = AA.CARRIER_DELAY.loc[(AA.ARR_DEL15 == 1) & (AA.CARRIER_DELAY != 0)]\n",
    "pop_C_Delays = pop.CARRIER_DELAY.loc[(pop.ARR_DEL15 == 1) & (pop.CARRIER_DELAY != 0)]\n",
    "\n",
    "t = welch_t(AA_C_Delays, pop_C_Delays)\n",
    "dof = welch_df(AA_C_Delays, pop_C_Delays)\n",
    "p = 1 - stats.t.cdf(t, dof)\n",
    "print(p)\n",
    "\n",
    "## Perhaps this result isn't meaningful because this test assumes a normal \n",
    "## distribution, which we have not observed for this dataset.\n"
   ]
  },
  {
   "cell_type": "markdown",
   "metadata": {},
   "source": [
    "## Making stuff Logarithmic!!"
   ]
  },
  {
   "cell_type": "code",
   "execution_count": null,
   "metadata": {},
   "outputs": [],
   "source": [
    "AA_C_Delays_df = pd.DataFrame(AA_C_Delays)\n",
    "\n",
    "## Since data is right-skewed, results of ANOVA (and related tests) may not be useful for data 'as-is' - going to\n",
    "## transform to log-scale\n",
    "AA_C_Delays_df['lognorm'] = np.log(AA_C_Delays_df.CARRIER_DELAY)\n",
    "AA_C_Delays_df.head()"
   ]
  },
  {
   "cell_type": "code",
   "execution_count": null,
   "metadata": {},
   "outputs": [],
   "source": [
    "sns.set(color_codes=True)\n",
    "sns.set(rc={'figure.figsize':(12,10)})\n",
    "sns.set_style(\"ticks\", {\"xtick.major.size\":50, \"ytick.major.size\":50})\n",
    "ax = sns.distplot(AA_C_Delays_df.lognorm)\n",
    "ax.set_title('American Airlines - Carrier Delay Time Distribution', {'fontsize': 20,\n",
    "        'fontweight' : 12,\n",
    "        'verticalalignment': 'baseline'})\n",
    "ax.set_xlabel('Log(Delay Times) (minutes)', fontdict={'fontsize' : 15})"
   ]
  },
  {
   "cell_type": "code",
   "execution_count": null,
   "metadata": {},
   "outputs": [],
   "source": [
    "pop_C_Delays_df = pd.DataFrame(pop_C_Delays)\n",
    "pop_C_Delays_df['lognorm'] = np.log(pop_C_Delays_df.CARRIER_DELAY)\n",
    "\n",
    "sns.set(color_codes=True)\n",
    "sns.set(rc={'figure.figsize':(12,10)})\n",
    "sns.distplot(pop_C_Delays_df.lognorm)"
   ]
  },
  {
   "cell_type": "code",
   "execution_count": null,
   "metadata": {},
   "outputs": [],
   "source": [
    "t_log = welch_t(AA_C_Delays_df['lognorm'], pop_C_Delays_df['lognorm'])\n",
    "dof_log = welch_df(AA_C_Delays_df['lognorm'], pop_C_Delays_df['lognorm'])\n",
    "p = 1 - stats.t.cdf(t_log, dof_log)\n",
    "print(p)"
   ]
  },
  {
   "cell_type": "markdown",
   "metadata": {},
   "source": [
    "Still not a normal distribution.\n",
    "After conversations with classmates, we've learned that for the Welch's t-test, we should apply a resampling method \n",
    "\n",
    "Going to use the central limit theorem applied to non-zero carrier delays - to quantify difference in length of delay\n",
    "\n",
    "Hypothesis read as: \"Given there is a carrier delay, is average carrier delay time greater for AA compared to the 16 other airlines\"\n",
    "\n",
    "The subsetted data frames to use: \"AA_C_Delays_df\" & \"pop_C_Delays_df\".\n",
    "\n",
    "Now going to resample data!"
   ]
  },
  {
   "cell_type": "code",
   "execution_count": null,
   "metadata": {},
   "outputs": [],
   "source": [
    "AA_RSM = central_limit_theorem_plotter(AA_C_Delays_df.CARRIER_DELAY, 10000, 5000) ## RSM = Random Sample Means"
   ]
  },
  {
   "cell_type": "code",
   "execution_count": null,
   "metadata": {},
   "outputs": [],
   "source": [
    "pop_RSM = central_limit_theorem_plotter(pop_C_Delays_df.CARRIER_DELAY, 10000, 5000)"
   ]
  },
  {
   "cell_type": "code",
   "execution_count": null,
   "metadata": {},
   "outputs": [],
   "source": [
    "t_RSM = welch_t(AA_RSM, pop_RSM)\n",
    "print(t_RSM)\n",
    "dof_RSM = welch_df(AA_RSM, pop_RSM)\n",
    "p = 1 - stats.t.cdf(t_RSM, dof_RSM)\n",
    "print(p)"
   ]
  },
  {
   "cell_type": "code",
   "execution_count": null,
   "metadata": {},
   "outputs": [],
   "source": [
    "## Double checking Welch values using stats package\n",
    "stats.ttest_ind(pop_RSM, AA_RSM, equal_var=False)"
   ]
  },
  {
   "cell_type": "markdown",
   "metadata": {},
   "source": [
    "A good result! - The large t-value shows that there is a statistical difference between the two means.\n",
    "\n",
    "Now we can use Cohen's D to quanitfy the size of that difference.\n",
    "This answers the question - is it just a small effect that never happens, or a large effect that never happens...\n"
   ]
  },
  {
   "cell_type": "markdown",
   "metadata": {},
   "source": [
    "### Cohen's $d$, standardized metrics for effect size\n",
    "Cohen’s $d$ is one of the most common ways to measure effect size. As an effect size, Cohen's d is typically used to represent the magnitude of differences between two (or more) groups on a given variable, with larger values representing a greater differentiation between the two groups on that variable.\n",
    "\n",
    "$d$ = effect size (difference of means) / pooled standard deviation;\n",
    "\n",
    "$d = \\frac{\\mu1 - \\mu2}{\\sigma pooled}$"
   ]
  },
  {
   "cell_type": "code",
   "execution_count": 2,
   "metadata": {},
   "outputs": [],
   "source": [
    "cohen_d(AA_RSM, pop_RSM)"
   ]
  },
  {
   "cell_type": "markdown",
   "metadata": {},
   "source": [
    "With a Cohen's d of 5.49, 100 % of the treatment group will be above the mean of the control group (Cohen's U3"
   ]
  },
  {
   "cell_type": "code",
   "execution_count": null,
   "metadata": {},
   "outputs": [],
   "source": []
  },
  {
   "cell_type": "code",
   "execution_count": null,
   "metadata": {},
   "outputs": [],
   "source": []
  },
  {
   "cell_type": "code",
   "execution_count": null,
   "metadata": {},
   "outputs": [],
   "source": []
  },
  {
   "cell_type": "markdown",
   "metadata": {},
   "source": [
    "### Subsetting to compare to major US Carriers:\n",
    "\n",
    "#### Variables to plot: \n",
    "\n",
    " - top_3_nonAA_DELAY_RSM\n",
    " - AA_RSM\n",
    " - everyone_else_DELAY_RSM\n",
    " - UA_DELAY_RSM\n",
    " - WN_DELAY_RSM \n",
    " - DL_DELAY_RSM"
   ]
  },
  {
   "cell_type": "code",
   "execution_count": null,
   "metadata": {},
   "outputs": [],
   "source": [
    "top_3_nonAA_DELAY_RSM = central_limit_theorem_plotter(top_3_nonAA_DELAY.CARRIER_DELAY, 10000, 5000)\n",
    "\n",
    "t_AA_vs_Top3 = welch_t(AA_RSM, top_3_nonAA_DELAY_RSM)\n",
    "dof_AA_vs_Top3 = welch_df(AA_RSM, top_3_nonAA_DELAY_RSM)\n",
    "p = 1 - stats.t.cdf(t_AA_vs_Top3, dof_AA_vs_Top3)\n",
    "\n",
    "print(t_AA_vs_Top3)\n",
    "print(dof_AA_vs_Top3)\n",
    "print(p)\n",
    "\n",
    "stats.ttest_ind(AA_RSM, top_3_nonAA_DELAY_RSM, equal_var=False)\n",
    "cohen_d(AA_RSM, top_3_nonAA_DELAY_RSM)"
   ]
  },
  {
   "cell_type": "markdown",
   "metadata": {},
   "source": []
  },
  {
   "cell_type": "code",
   "execution_count": null,
   "metadata": {},
   "outputs": [],
   "source": [
    "central_limit_theorem_mean(pop.loc[mask].CARRIER_DELAY, 10000, 5000)"
   ]
  },
  {
   "cell_type": "code",
   "execution_count": null,
   "metadata": {},
   "outputs": [],
   "source": [
    "# Testing mask to filter on individual airlines with Delays (at least 15min) and Carrier Delays, ignoring NAN values\n",
    "\n",
    "mask = (pop.OP_UNIQUE_CARRIER == 'WN') & (pop.DEP_DEL15 == 1) & \n",
    "       (pop.CARRIER_DELAY != 0) & (pop.CARRIER_DELAY.isna() == False)\n",
    "\n",
    "pop.loc[mask]\n",
    "\n",
    "everyone_else = pop.loc[(~pop.OP_UNIQUE_CARRIER.isin(\n",
    "                         ['DL', 'WN', 'UA', 'AA']))]\n",
    "\n",
    "# Checked to see that we have filtered correctly\n",
    "# everyone_else.OP_UNIQUE_CARRIER.unique()\n",
    "\n",
    "mask2 = (everyone_else.DEP_DEL15 == 1) & (everyone_else.CARRIER_DELAY != 0) \n",
    "        & (everyone_else.CARRIER_DELAY.isna() == False)\n",
    "    \n",
    "everyone_else_DELAY = everyone_else.loc[mask2]\n",
    "everyone_else_DELAY_RSM = central_limit_theorem_plotter(everyone_else_DELAY.CARRIER_DELAY, \n",
    "                                                        10000, 5000)"
   ]
  },
  {
   "cell_type": "code",
   "execution_count": null,
   "metadata": {},
   "outputs": [],
   "source": [
    "DL = pop.loc[(pop.OP_UNIQUE_CARRIER == 'DL')] \n",
    "##everyone_else.OP_UNIQUE_CARRIER.unique() ## Checked to see that we have filtered correctly\n",
    "mask3 = (DL.DEP_DEL15 == 1) & (DL.CARRIER_DELAY != 0) & (DL.CARRIER_DELAY.isna() == False)\n",
    "DL_DELAY = DL.loc[mask3]\n",
    "DL_DELAY_RSM = central_limit_theorem_plotter(DL_DELAY.CARRIER_DELAY, 10000, 5000)"
   ]
  },
  {
   "cell_type": "code",
   "execution_count": null,
   "metadata": {},
   "outputs": [],
   "source": [
    "WN = pop.loc[(pop.OP_UNIQUE_CARRIER == 'WN')] \n",
    "##everyone_else.OP_UNIQUE_CARRIER.unique() ## Checked to see that we have filtered correctly\n",
    "mask4 = (WN.DEP_DEL15 == 1) & (WN.CARRIER_DELAY != 0) & (WN.CARRIER_DELAY.isna() == False)\n",
    "WN_DELAY = WN.loc[mask4]\n",
    "WN_DELAY_RSM = central_limit_theorem_plotter(WN_DELAY.CARRIER_DELAY, 10000, 5000)"
   ]
  },
  {
   "cell_type": "code",
   "execution_count": null,
   "metadata": {},
   "outputs": [],
   "source": [
    "UA = pop.loc[(pop.OP_UNIQUE_CARRIER == 'UA')] \n",
    "##everyone_else.OP_UNIQUE_CARRIER.unique() ## Checked to see that we have filtered correctly\n",
    "mask5 = (UA.DEP_DEL15 == 1) & (UA.CARRIER_DELAY != 0) & (UA.CARRIER_DELAY.isna() == False)\n",
    "UA_DELAY = UA.loc[mask5]\n",
    "UA_DELAY_RSM = central_limit_theorem_plotter(UA_DELAY.CARRIER_DELAY, 10000, 5000)"
   ]
  },
  {
   "cell_type": "markdown",
   "metadata": {},
   "source": [
    "## Barplot of each airlines Resampled Mean Carrier Delay Time"
   ]
  },
  {
   "cell_type": "code",
   "execution_count": null,
   "metadata": {},
   "outputs": [],
   "source": [
    "## This returns the resampled means of each individual airline reported in the dataset.\n",
    "\n",
    "mean_carrier_delay_airlines_all = {}\n",
    "for airline in names_to_map.UNIQUE_CARRIER:\n",
    "    mask = (df.OP_UNIQUE_CARRIER == airline) & (df.DEP_DEL15 == 1) & (df.CARRIER_DELAY != 0) & (df.CARRIER_DELAY.isna() == False)\n",
    "    temp = df.loc[mask]\n",
    "    temp_mean = central_limit_theorem_mean(temp.CARRIER_DELAY, 10000, 5000)\n",
    "    mean_carrier_delay_airlines_all[airline] = temp_mean\n",
    "\n",
    "mean_CarrierDelay_all_df = pd.DataFrame(data = mean_carrier_delay_airlines_all.values(), columns = ['Mean Carrier Delay'], index = mean_carrier_delay_airlines_all.keys())\n",
    "\n",
    "mean_CarrierDelay_all_df\n"
   ]
  },
  {
   "cell_type": "code",
   "execution_count": null,
   "metadata": {},
   "outputs": [],
   "source": [
    "consol_df = mean_CarrierDelay_all_df.merge(names_to_map, how = 'outer', left_index = True, right_index = True)\n",
    "plot = sns.barplot(x = consol_df.Description, y = consol_df['Mean Carrier Delay']) ## Missing American Airlines\n",
    "plot.set_title('Resampled Mean of Carrier Delays for Individual Airlines')\n",
    "for item in plot.get_xticklabels():\n",
    "    item.set_rotation(45)\n",
    "    "
   ]
  },
  {
   "cell_type": "markdown",
   "metadata": {},
   "source": [
    "## Figure: \"Resampled Distribution of Means for Carrier Delays by Airline/Group\""
   ]
  },
  {
   "cell_type": "code",
   "execution_count": null,
   "metadata": {},
   "outputs": [],
   "source": [
    "#f, ax = plt.subplots(1, 1)\n",
    "plt.figure(figsize=(9,6))\n",
    "\n",
    "ax = sns.distplot(top_3_nonAA_DELAY_RSM, bins=50, kde=True, label = 'Top 3')\n",
    "ax = sns.distplot(AA_RSM, bins=50, kde=True, label = 'AA')\n",
    "ax = sns.distplot(everyone_else_DELAY_RSM, bins=50, kde=True, label = 'Bottom 13')\n",
    "ax = sns.distplot(UA_DELAY_RSM, bins=50, kde=True, label = 'UA')\n",
    "ax = sns.distplot(WN_DELAY_RSM , bins=50, kde=True, label = 'WN')\n",
    "ax = sns.distplot(DL_DELAY_RSM, bins=50, kde=True, label = 'DL')\n",
    "#sns.set(context='talk')\n",
    "ax.set_title('Resampled Distribution of Means for Carrier Delays by Airline/Group')\n",
    "\n",
    "plt.axvline(top_3_nonAA_DELAY_RSM.mean(), 0, .65, color='red', alpha=.8)\n",
    "plt.axvline(AA_RSM.mean(), 0, .5, color='red', alpha=.8)\n",
    "plt.axvline(everyone_else_DELAY_RSM.mean(), 0, .4, color='red', alpha=.8)\n",
    "plt.axvline(UA_DELAY_RSM.mean(), 0, .5, color='red', alpha=.8)\n",
    "plt.axvline(WN_DELAY_RSM.mean(), 0, .95 , color='red', alpha=.8)\n",
    "plt.axvline(DL_DELAY_RSM.mean(), 0, .4, color='red', alpha=.8)\n",
    "\n",
    "ax.legend()"
   ]
  },
  {
   "cell_type": "markdown",
   "metadata": {},
   "source": [
    "## Figure: \"Carrier Delay Distribution - American vs. Everyone Else\""
   ]
  },
  {
   "cell_type": "code",
   "execution_count": null,
   "metadata": {},
   "outputs": [],
   "source": [
    "plt.figure(figsize=(9,6))\n",
    "ax = sns.distplot(AA_RSM, bins=50, kde=True, label = 'AA')\n",
    "ax = sns.distplot(everyone_else_DELAY_RSM, bins=50, kde=True, label = 'Bottom 13')\n",
    "ax.set_title('Carrier Delay Distribution - American vs. Everyone Else')\n",
    "plt.axvline(AA_RSM.mean(), 0, .5, color='red', alpha=.8)\n",
    "plt.axvline(everyone_else_DELAY_RSM.mean(), 0, .4, color='red', alpha=.8)\n",
    "\n",
    "ax.legend()"
   ]
  },
  {
   "cell_type": "markdown",
   "metadata": {},
   "source": [
    "## Figure: \"American vs. Top 3 (Carrier Delay Times)\""
   ]
  },
  {
   "cell_type": "code",
   "execution_count": null,
   "metadata": {},
   "outputs": [],
   "source": [
    "plt.figure(figsize=(9,6))\n",
    "\n",
    "ax = sns.distplot(top_3_nonAA_DELAY_RSM, bins=50, kde=True, label = 'Top 3', color = 'darkblue')\n",
    "ax = sns.distplot(AA_RSM, bins=50, kde=True, label = 'AA', color = 'darkorange')\n",
    "ax.set_title('American vs. Top 3 (Carrier Delay Times)')\n",
    "plt.axvline(top_3_nonAA_DELAY_RSM.mean(), 0, .9, color='red', alpha=.8)\n",
    "plt.axvline(AA_RSM.mean(), 0, .7, color='red', alpha=.8)\n",
    "\n",
    "ax.legend()"
   ]
  },
  {
   "cell_type": "markdown",
   "metadata": {},
   "source": [
    "## Figure: \"American vs. Everyone Else\""
   ]
  },
  {
   "cell_type": "code",
   "execution_count": null,
   "metadata": {},
   "outputs": [],
   "source": [
    "plt.figure(figsize=(9,6))\n",
    "\n",
    "ax = sns.distplot(pop_RSM, bins=50, kde=True, label = 'Everyone Else', color = 'purple')\n",
    "ax = sns.distplot(AA_RSM, bins=50, kde=True, label = 'AA', color = 'darkorange')\n",
    "ax.set_title('American vs. Everyone Else')\n",
    "\n",
    "plt.axvline(pop_RSM.mean(), 0, .9, color='red', alpha=.8)\n",
    "plt.axvline(AA_RSM.mean(), 0, .9, color='red', alpha=.8)\n",
    "\n",
    "ax.legend()"
   ]
  },
  {
   "cell_type": "markdown",
   "metadata": {},
   "source": [
    "## Figure: \"American vs. Top 3 Individually (Carrier Delay Times)\""
   ]
  },
  {
   "cell_type": "code",
   "execution_count": null,
   "metadata": {},
   "outputs": [],
   "source": [
    "plt.figure(figsize=(9,6))\n",
    "\n",
    "ax = sns.distplot(AA_RSM, bins=50, kde=True, label = 'American', color = 'darkorange')\n",
    "ax = sns.distplot(UA_DELAY_RSM, bins=50, kde=True, label = 'United')\n",
    "ax = sns.distplot(WN_DELAY_RSM , bins=50, kde=True, label = 'Southwest', color = 'salmon')\n",
    "ax = sns.distplot(DL_DELAY_RSM, bins=50, kde=True, label = 'Delta', color = 'seagreen')\n",
    "\n",
    "ax.set_title('American vs. Top 3 Individually (Carrier Delay Times)')\n",
    "\n",
    "plt.axvline(AA_RSM.mean(), 0, .5, color='red', alpha=.8)\n",
    "plt.axvline(UA_DELAY_RSM.mean(), 0, .5, color='red', alpha=.8)\n",
    "plt.axvline(WN_DELAY_RSM.mean(), 0, .95 , color='red', alpha=.8)\n",
    "plt.axvline(DL_DELAY_RSM.mean(), 0, .4, color='red', alpha=.8)\n",
    "\n",
    "ax.legend()"
   ]
  },
  {
   "cell_type": "markdown",
   "metadata": {},
   "source": [
    "# Moving on to anova for delays at DC area airports DCA/IAD/BWI\n",
    "Are cancellation rates uniform across airports?  "
   ]
  },
  {
   "cell_type": "markdown",
   "metadata": {},
   "source": [
    "# Create dfs for Anova\n",
    "##### Select data airport specific american airlines data"
   ]
  },
  {
   "cell_type": "code",
   "execution_count": null,
   "metadata": {},
   "outputs": [],
   "source": [
    "# these come from already existing AA_df dataframe generated above\n",
    "DCA = lean_df.loc[((lean_df.ORIGIN=='DCA')&(lean_df.CANCELLED==0)&(lean_df.DEP_DELAY_NEW>=15)&(lean_df.CARRIER_DELAY>0)&(lean_df.CARRIER_NAME=='American Airlines Inc.'))]\n",
    "IAD = lean_df.loc[((lean_df.ORIGIN=='IAD')&(lean_df.CANCELLED==0)&(lean_df.DEP_DELAY_NEW>=15)&(lean_df.CARRIER_DELAY>0)&(lean_df.CARRIER_NAME=='American Airlines Inc.'))]\n",
    "BWI = lean_df.loc[((lean_df.ORIGIN=='BWI')&(lean_df.CANCELLED==0)&(lean_df.DEP_DELAY_NEW>=15)&(lean_df.CARRIER_DELAY>0)&(lean_df.CARRIER_NAME=='American Airlines Inc.'))]"
   ]
  },
  {
   "cell_type": "markdown",
   "metadata": {},
   "source": [
    "# Anova Testing"
   ]
  },
  {
   "cell_type": "code",
   "execution_count": null,
   "metadata": {},
   "outputs": [],
   "source": [
    "DCA_s = CLM_resampler(DCA.CARRIER_DELAY, 100, 1000)\n",
    "IAD_s = CLM_resampler(IAD.CARRIER_DELAY, 100, 1000)\n",
    "BWI_s = CLM_resampler(BWI.CARRIER_DELAY, 100, 1000)\n",
    "\n",
    "print('DCA mean = ' + str(DCA_s.mean()) + ',IAD mean = ' + str(IAD_s.mean()) + ' BWI mean = '+ str(BWI_s.mean()))\n",
    "\n",
    "resultsD_I = stats.kruskal(DCA_s, IAD_s)\n",
    "resultsD_B = stats.kruskal(DCA_s, BWI_s)\n",
    "resultsB_I = stats.kruskal(DCA_s, BWI_s)\n",
    "\n",
    "print('DCA/IAD' + str(resultsD_I) + ', DCA/BWI' + str(resultsD_B) + ', BWI/IAD' + str(resultsB_I))"
   ]
  },
  {
   "cell_type": "markdown",
   "metadata": {},
   "source": [
    "#### Check for homoscedasticity \n",
    "\n",
    "This appears to fail levene test for equal variance.  Bah.  Looks like we can't assume that.\n",
    "\n",
    "we'll use Kruskal-Wallis H-test instead - this is non parametric version of one-way anova test.  "
   ]
  },
  {
   "cell_type": "code",
   "execution_count": null,
   "metadata": {},
   "outputs": [],
   "source": [
    "stats.levene(DCA_s, IAD_s, BWI_s)"
   ]
  },
  {
   "cell_type": "markdown",
   "metadata": {},
   "source": [
    "# Graph individual carrier delay distributions for airports"
   ]
  },
  {
   "cell_type": "code",
   "execution_count": null,
   "metadata": {},
   "outputs": [],
   "source": [
    "plt.figure(figsize=(12,22))\n",
    "\n",
    "print(stats.kruskal(DCA_s, IAD_s))\n",
    "print(stats.ttest_ind(DCA_s, IAD_s, equal_var=False))\n",
    "plt.subplot(311)\n",
    "ax1 = sns.distplot(DCA_s, bins=range(0,120,2))\n",
    "ax1 = sns.distplot(IAD_s, bins=range(0,120,2))\n",
    "ax1.set_title('Sampling distribution american airlines delays DCA and IAD')\n",
    "\n",
    "\n",
    "plt.subplot(312)\n",
    "print(stats.kruskal(DCA_s, BWI_s))\n",
    "print(stats.ttest_ind(DCA_s, BWI_s, equal_var=False))\n",
    "ax2 = sns.distplot(DCA_s, bins=range(0,120,2))\n",
    "ax2 = sns.distplot(BWI_s, bins=range(0,120,2))\n",
    "ax2.set_title('Sampling distribution american airlines delays DCA and BWI')\n",
    "\n",
    "\n",
    "plt.subplot(313)\n",
    "print(stats.kruskal(BWI_s, IAD_s))\n",
    "print(stats.ttest_ind(BWI_s, IAD_s, equal_var=False))\n",
    "ax3 = sns.distplot(BWI_s, bins=range(0,120,2))\n",
    "ax3 = sns.distplot(IAD_s, bins=range(0,120,2))\n",
    "ax3.set_title('Sampling distribution american airlines delays BWI and IAD')\n",
    "\n",
    "plt.savefig('sampling_distribution_airport_subplots.jpg')"
   ]
  },
  {
   "cell_type": "markdown",
   "metadata": {},
   "source": [
    "# Graph delay dist all airports"
   ]
  },
  {
   "cell_type": "code",
   "execution_count": null,
   "metadata": {},
   "outputs": [],
   "source": [
    "plt.figure(figsize=(9,6))\n",
    "#sns.set(context='talk')\n",
    "ax = sns.distplot(BWI_s, bins=range(0,120,2), label='BWI', color='blue', kde=False, fit=norm)\n",
    "ax = sns.distplot(IAD_s, bins=range(0,120,2), label='IAD', color='orange', kde=False, fit=norm)\n",
    "ax = sns.distplot(DCA_s, bins=range(0,120,2), label='DCA', color='green', kde=False, fit=norm)\n",
    "ax.set_title('Sampling distribution american airlines delays')\n",
    "ax.set(xlabel='Delay length', ylabel='Frequency')\n",
    "ax.legend()\n",
    "plt.axvline(DCA_s.mean(), 0, .815, color='red', alpha=.8)\n",
    "plt.axvline(IAD_s.mean(), 0, .43, color='red', alpha=.8)\n",
    "plt.axvline(BWI_s.mean(), 0, .46, color='red', alpha=.8)\n",
    "\n",
    "plt.savefig('american_specific_airport_delays_sample_dist.jpg')"
   ]
  }
 ],
 "metadata": {
  "kernelspec": {
   "display_name": "Python 3",
   "language": "python",
   "name": "python3"
  },
  "language_info": {
   "codemirror_mode": {
    "name": "ipython",
    "version": 3
   },
   "file_extension": ".py",
   "mimetype": "text/x-python",
   "name": "python",
   "nbconvert_exporter": "python",
   "pygments_lexer": "ipython3",
   "version": "3.7.3"
  }
 },
 "nbformat": 4,
 "nbformat_minor": 2
}
