{
 "cells": [
  {
   "cell_type": "code",
   "execution_count": 129,
   "metadata": {},
   "outputs": [],
   "source": [
    "import pandas as pd\n",
    "import matplotlib.pyplot as plt\n",
    "import seaborn as sns\n",
    "from scipy import stats\n",
    "import statsmodels\n",
    "import statsmodels.stats\n",
    "import statsmodels.stats.proportion\n",
    "import numpy as np\n",
    "\n",
    "pd.options.display.max_columns = None"
   ]
  },
  {
   "cell_type": "code",
   "execution_count": 4,
   "metadata": {
    "scrolled": true
   },
   "outputs": [
    {
     "name": "stderr",
     "output_type": "stream",
     "text": [
      "C:\\Users\\prayt\\Anaconda3\\lib\\site-packages\\IPython\\core\\interactiveshell.py:3049: DtypeWarning: Columns (45) have mixed types. Specify dtype option on import or set low_memory=False.\n",
      "  interactivity=interactivity, compiler=compiler, result=result)\n"
     ]
    }
   ],
   "source": [
    "airline_names_key = pd.read_csv('flight_data_zipped_files/airline_name_and_code_key.zip', names = ['OP_UNIQUE_CARRIER', 'CARRIER_NAME'])\n",
    "\n",
    "april = pd.read_csv('flight_data_zipped_files/april_2019.zip')\n",
    "march = pd.read_csv('flight_data_zipped_files/march_2019.zip')\n",
    "february = pd.read_csv('flight_data_zipped_files/february_2019.zip')\n",
    "january = pd.read_csv('flight_data_zipped_files/january_2019.zip')\n",
    "december = pd.read_csv('flight_data_zipped_files/december_2018.zip')\n",
    "november = pd.read_csv('flight_data_zipped_files/november_2018.zip')"
   ]
  },
  {
   "cell_type": "code",
   "execution_count": 5,
   "metadata": {
    "scrolled": true
   },
   "outputs": [],
   "source": [
    "frames = [april, march, february, january, december, november]\n",
    "df = pd.concat(frames) \n",
    "df = df.merge(airline_names_key, how='left', on='OP_UNIQUE_CARRIER')"
   ]
  },
  {
   "cell_type": "markdown",
   "metadata": {},
   "source": [
    "#### This is a huge dataframe.  dropping some columns we don't need to speed things up. "
   ]
  },
  {
   "cell_type": "code",
   "execution_count": 6,
   "metadata": {},
   "outputs": [],
   "source": [
    "lean_df = df.drop(columns = ['QUARTER', 'OP_CARRIER_AIRLINE_ID','TAIL_NUM', 'OP_CARRIER_FL_NUM', 'DEST_WAC', 'DEST_STATE_FIPS', 'ORIGIN_CITY_MARKET_ID', 'Unnamed: 55', 'FIRST_DEP_TIME', 'ARR_TIME_BLK', 'DEST_AIRPORT_SEQ_ID', 'DEST_AIRPORT_ID', 'ORIGIN_AIRPORT_SEQ_ID', 'ORIGIN_AIRPORT_ID'])"
   ]
  },
  {
   "cell_type": "code",
   "execution_count": 7,
   "metadata": {},
   "outputs": [
    {
     "data": {
      "text/html": [
       "<div>\n",
       "<style scoped>\n",
       "    .dataframe tbody tr th:only-of-type {\n",
       "        vertical-align: middle;\n",
       "    }\n",
       "\n",
       "    .dataframe tbody tr th {\n",
       "        vertical-align: top;\n",
       "    }\n",
       "\n",
       "    .dataframe thead th {\n",
       "        text-align: right;\n",
       "    }\n",
       "</style>\n",
       "<table border=\"1\" class=\"dataframe\">\n",
       "  <thead>\n",
       "    <tr style=\"text-align: right;\">\n",
       "      <th></th>\n",
       "      <th>YEAR</th>\n",
       "      <th>MONTH</th>\n",
       "      <th>DAY_OF_MONTH</th>\n",
       "      <th>DAY_OF_WEEK</th>\n",
       "      <th>FL_DATE</th>\n",
       "      <th>OP_UNIQUE_CARRIER</th>\n",
       "      <th>ORIGIN</th>\n",
       "      <th>ORIGIN_CITY_NAME</th>\n",
       "      <th>ORIGIN_STATE_ABR</th>\n",
       "      <th>ORIGIN_STATE_FIPS</th>\n",
       "      <th>ORIGIN_STATE_NM</th>\n",
       "      <th>ORIGIN_WAC</th>\n",
       "      <th>DEST_CITY_MARKET_ID</th>\n",
       "      <th>DEST</th>\n",
       "      <th>DEST_CITY_NAME</th>\n",
       "      <th>DEST_STATE_ABR</th>\n",
       "      <th>DEST_STATE_NM</th>\n",
       "      <th>CRS_DEP_TIME</th>\n",
       "      <th>DEP_TIME</th>\n",
       "      <th>DEP_DELAY</th>\n",
       "      <th>DEP_DELAY_NEW</th>\n",
       "      <th>DEP_DEL15</th>\n",
       "      <th>DEP_DELAY_GROUP</th>\n",
       "      <th>DEP_TIME_BLK</th>\n",
       "      <th>TAXI_OUT</th>\n",
       "      <th>WHEELS_OFF</th>\n",
       "      <th>WHEELS_ON</th>\n",
       "      <th>ARR_TIME</th>\n",
       "      <th>ARR_DELAY</th>\n",
       "      <th>ARR_DELAY_NEW</th>\n",
       "      <th>ARR_DEL15</th>\n",
       "      <th>ARR_DELAY_GROUP</th>\n",
       "      <th>CANCELLED</th>\n",
       "      <th>CANCELLATION_CODE</th>\n",
       "      <th>DIVERTED</th>\n",
       "      <th>CARRIER_DELAY</th>\n",
       "      <th>WEATHER_DELAY</th>\n",
       "      <th>NAS_DELAY</th>\n",
       "      <th>SECURITY_DELAY</th>\n",
       "      <th>LATE_AIRCRAFT_DELAY</th>\n",
       "      <th>TOTAL_ADD_GTIME</th>\n",
       "      <th>LONGEST_ADD_GTIME</th>\n",
       "      <th>CARRIER_NAME</th>\n",
       "    </tr>\n",
       "  </thead>\n",
       "  <tbody>\n",
       "    <tr>\n",
       "      <th>0</th>\n",
       "      <td>2019</td>\n",
       "      <td>4</td>\n",
       "      <td>30</td>\n",
       "      <td>2</td>\n",
       "      <td>2019-04-30</td>\n",
       "      <td>F9</td>\n",
       "      <td>ISP</td>\n",
       "      <td>Islip, NY</td>\n",
       "      <td>NY</td>\n",
       "      <td>36</td>\n",
       "      <td>New York</td>\n",
       "      <td>22</td>\n",
       "      <td>34027</td>\n",
       "      <td>PBI</td>\n",
       "      <td>West Palm Beach/Palm Beach, FL</td>\n",
       "      <td>FL</td>\n",
       "      <td>Florida</td>\n",
       "      <td>1548</td>\n",
       "      <td>1542.0</td>\n",
       "      <td>-6.0</td>\n",
       "      <td>0.0</td>\n",
       "      <td>0.0</td>\n",
       "      <td>-1.0</td>\n",
       "      <td>1500-1559</td>\n",
       "      <td>8.0</td>\n",
       "      <td>1550.0</td>\n",
       "      <td>1805.0</td>\n",
       "      <td>1813.0</td>\n",
       "      <td>-27.0</td>\n",
       "      <td>0.0</td>\n",
       "      <td>0.0</td>\n",
       "      <td>-2.0</td>\n",
       "      <td>0.0</td>\n",
       "      <td>NaN</td>\n",
       "      <td>0.0</td>\n",
       "      <td>NaN</td>\n",
       "      <td>NaN</td>\n",
       "      <td>NaN</td>\n",
       "      <td>NaN</td>\n",
       "      <td>NaN</td>\n",
       "      <td>NaN</td>\n",
       "      <td>NaN</td>\n",
       "      <td>Frontier Airlines Inc.</td>\n",
       "    </tr>\n",
       "    <tr>\n",
       "      <th>1</th>\n",
       "      <td>2019</td>\n",
       "      <td>4</td>\n",
       "      <td>30</td>\n",
       "      <td>2</td>\n",
       "      <td>2019-04-30</td>\n",
       "      <td>F9</td>\n",
       "      <td>PBI</td>\n",
       "      <td>West Palm Beach/Palm Beach, FL</td>\n",
       "      <td>FL</td>\n",
       "      <td>12</td>\n",
       "      <td>Florida</td>\n",
       "      <td>33</td>\n",
       "      <td>31703</td>\n",
       "      <td>ISP</td>\n",
       "      <td>Islip, NY</td>\n",
       "      <td>NY</td>\n",
       "      <td>New York</td>\n",
       "      <td>1940</td>\n",
       "      <td>1924.0</td>\n",
       "      <td>-16.0</td>\n",
       "      <td>0.0</td>\n",
       "      <td>0.0</td>\n",
       "      <td>-2.0</td>\n",
       "      <td>1900-1959</td>\n",
       "      <td>11.0</td>\n",
       "      <td>1935.0</td>\n",
       "      <td>2154.0</td>\n",
       "      <td>2201.0</td>\n",
       "      <td>-24.0</td>\n",
       "      <td>0.0</td>\n",
       "      <td>0.0</td>\n",
       "      <td>-2.0</td>\n",
       "      <td>0.0</td>\n",
       "      <td>NaN</td>\n",
       "      <td>0.0</td>\n",
       "      <td>NaN</td>\n",
       "      <td>NaN</td>\n",
       "      <td>NaN</td>\n",
       "      <td>NaN</td>\n",
       "      <td>NaN</td>\n",
       "      <td>NaN</td>\n",
       "      <td>NaN</td>\n",
       "      <td>Frontier Airlines Inc.</td>\n",
       "    </tr>\n",
       "    <tr>\n",
       "      <th>2</th>\n",
       "      <td>2019</td>\n",
       "      <td>4</td>\n",
       "      <td>30</td>\n",
       "      <td>2</td>\n",
       "      <td>2019-04-30</td>\n",
       "      <td>F9</td>\n",
       "      <td>MCO</td>\n",
       "      <td>Orlando, FL</td>\n",
       "      <td>FL</td>\n",
       "      <td>12</td>\n",
       "      <td>Florida</td>\n",
       "      <td>33</td>\n",
       "      <td>34100</td>\n",
       "      <td>PHL</td>\n",
       "      <td>Philadelphia, PA</td>\n",
       "      <td>PA</td>\n",
       "      <td>Pennsylvania</td>\n",
       "      <td>635</td>\n",
       "      <td>630.0</td>\n",
       "      <td>-5.0</td>\n",
       "      <td>0.0</td>\n",
       "      <td>0.0</td>\n",
       "      <td>-1.0</td>\n",
       "      <td>0600-0659</td>\n",
       "      <td>15.0</td>\n",
       "      <td>645.0</td>\n",
       "      <td>849.0</td>\n",
       "      <td>857.0</td>\n",
       "      <td>-15.0</td>\n",
       "      <td>0.0</td>\n",
       "      <td>0.0</td>\n",
       "      <td>-1.0</td>\n",
       "      <td>0.0</td>\n",
       "      <td>NaN</td>\n",
       "      <td>0.0</td>\n",
       "      <td>NaN</td>\n",
       "      <td>NaN</td>\n",
       "      <td>NaN</td>\n",
       "      <td>NaN</td>\n",
       "      <td>NaN</td>\n",
       "      <td>NaN</td>\n",
       "      <td>NaN</td>\n",
       "      <td>Frontier Airlines Inc.</td>\n",
       "    </tr>\n",
       "    <tr>\n",
       "      <th>3</th>\n",
       "      <td>2019</td>\n",
       "      <td>4</td>\n",
       "      <td>30</td>\n",
       "      <td>2</td>\n",
       "      <td>2019-04-30</td>\n",
       "      <td>F9</td>\n",
       "      <td>PHL</td>\n",
       "      <td>Philadelphia, PA</td>\n",
       "      <td>PA</td>\n",
       "      <td>42</td>\n",
       "      <td>Pennsylvania</td>\n",
       "      <td>23</td>\n",
       "      <td>34819</td>\n",
       "      <td>SJU</td>\n",
       "      <td>San Juan, PR</td>\n",
       "      <td>PR</td>\n",
       "      <td>Puerto Rico</td>\n",
       "      <td>2143</td>\n",
       "      <td>2145.0</td>\n",
       "      <td>2.0</td>\n",
       "      <td>2.0</td>\n",
       "      <td>0.0</td>\n",
       "      <td>0.0</td>\n",
       "      <td>2100-2159</td>\n",
       "      <td>32.0</td>\n",
       "      <td>2217.0</td>\n",
       "      <td>200.0</td>\n",
       "      <td>212.0</td>\n",
       "      <td>22.0</td>\n",
       "      <td>22.0</td>\n",
       "      <td>1.0</td>\n",
       "      <td>1.0</td>\n",
       "      <td>0.0</td>\n",
       "      <td>NaN</td>\n",
       "      <td>0.0</td>\n",
       "      <td>2.0</td>\n",
       "      <td>0.0</td>\n",
       "      <td>20.0</td>\n",
       "      <td>0.0</td>\n",
       "      <td>0.0</td>\n",
       "      <td>NaN</td>\n",
       "      <td>NaN</td>\n",
       "      <td>Frontier Airlines Inc.</td>\n",
       "    </tr>\n",
       "    <tr>\n",
       "      <th>4</th>\n",
       "      <td>2019</td>\n",
       "      <td>4</td>\n",
       "      <td>30</td>\n",
       "      <td>2</td>\n",
       "      <td>2019-04-30</td>\n",
       "      <td>F9</td>\n",
       "      <td>DEN</td>\n",
       "      <td>Denver, CO</td>\n",
       "      <td>CO</td>\n",
       "      <td>8</td>\n",
       "      <td>Colorado</td>\n",
       "      <td>82</td>\n",
       "      <td>30397</td>\n",
       "      <td>ATL</td>\n",
       "      <td>Atlanta, GA</td>\n",
       "      <td>GA</td>\n",
       "      <td>Georgia</td>\n",
       "      <td>535</td>\n",
       "      <td>637.0</td>\n",
       "      <td>62.0</td>\n",
       "      <td>62.0</td>\n",
       "      <td>1.0</td>\n",
       "      <td>4.0</td>\n",
       "      <td>0001-0559</td>\n",
       "      <td>38.0</td>\n",
       "      <td>715.0</td>\n",
       "      <td>1155.0</td>\n",
       "      <td>1203.0</td>\n",
       "      <td>89.0</td>\n",
       "      <td>89.0</td>\n",
       "      <td>1.0</td>\n",
       "      <td>5.0</td>\n",
       "      <td>0.0</td>\n",
       "      <td>NaN</td>\n",
       "      <td>0.0</td>\n",
       "      <td>62.0</td>\n",
       "      <td>0.0</td>\n",
       "      <td>27.0</td>\n",
       "      <td>0.0</td>\n",
       "      <td>0.0</td>\n",
       "      <td>8.0</td>\n",
       "      <td>8.0</td>\n",
       "      <td>Frontier Airlines Inc.</td>\n",
       "    </tr>\n",
       "  </tbody>\n",
       "</table>\n",
       "</div>"
      ],
      "text/plain": [
       "   YEAR  MONTH  DAY_OF_MONTH  DAY_OF_WEEK     FL_DATE OP_UNIQUE_CARRIER  \\\n",
       "0  2019      4            30            2  2019-04-30                F9   \n",
       "1  2019      4            30            2  2019-04-30                F9   \n",
       "2  2019      4            30            2  2019-04-30                F9   \n",
       "3  2019      4            30            2  2019-04-30                F9   \n",
       "4  2019      4            30            2  2019-04-30                F9   \n",
       "\n",
       "  ORIGIN                ORIGIN_CITY_NAME ORIGIN_STATE_ABR  ORIGIN_STATE_FIPS  \\\n",
       "0    ISP                       Islip, NY               NY                 36   \n",
       "1    PBI  West Palm Beach/Palm Beach, FL               FL                 12   \n",
       "2    MCO                     Orlando, FL               FL                 12   \n",
       "3    PHL                Philadelphia, PA               PA                 42   \n",
       "4    DEN                      Denver, CO               CO                  8   \n",
       "\n",
       "  ORIGIN_STATE_NM  ORIGIN_WAC  DEST_CITY_MARKET_ID DEST  \\\n",
       "0        New York          22                34027  PBI   \n",
       "1         Florida          33                31703  ISP   \n",
       "2         Florida          33                34100  PHL   \n",
       "3    Pennsylvania          23                34819  SJU   \n",
       "4        Colorado          82                30397  ATL   \n",
       "\n",
       "                   DEST_CITY_NAME DEST_STATE_ABR DEST_STATE_NM  CRS_DEP_TIME  \\\n",
       "0  West Palm Beach/Palm Beach, FL             FL       Florida          1548   \n",
       "1                       Islip, NY             NY      New York          1940   \n",
       "2                Philadelphia, PA             PA  Pennsylvania           635   \n",
       "3                    San Juan, PR             PR   Puerto Rico          2143   \n",
       "4                     Atlanta, GA             GA       Georgia           535   \n",
       "\n",
       "   DEP_TIME  DEP_DELAY  DEP_DELAY_NEW  DEP_DEL15  DEP_DELAY_GROUP  \\\n",
       "0    1542.0       -6.0            0.0        0.0             -1.0   \n",
       "1    1924.0      -16.0            0.0        0.0             -2.0   \n",
       "2     630.0       -5.0            0.0        0.0             -1.0   \n",
       "3    2145.0        2.0            2.0        0.0              0.0   \n",
       "4     637.0       62.0           62.0        1.0              4.0   \n",
       "\n",
       "  DEP_TIME_BLK  TAXI_OUT  WHEELS_OFF  WHEELS_ON  ARR_TIME  ARR_DELAY  \\\n",
       "0    1500-1559       8.0      1550.0     1805.0    1813.0      -27.0   \n",
       "1    1900-1959      11.0      1935.0     2154.0    2201.0      -24.0   \n",
       "2    0600-0659      15.0       645.0      849.0     857.0      -15.0   \n",
       "3    2100-2159      32.0      2217.0      200.0     212.0       22.0   \n",
       "4    0001-0559      38.0       715.0     1155.0    1203.0       89.0   \n",
       "\n",
       "   ARR_DELAY_NEW  ARR_DEL15  ARR_DELAY_GROUP  CANCELLED CANCELLATION_CODE  \\\n",
       "0            0.0        0.0             -2.0        0.0               NaN   \n",
       "1            0.0        0.0             -2.0        0.0               NaN   \n",
       "2            0.0        0.0             -1.0        0.0               NaN   \n",
       "3           22.0        1.0              1.0        0.0               NaN   \n",
       "4           89.0        1.0              5.0        0.0               NaN   \n",
       "\n",
       "   DIVERTED  CARRIER_DELAY  WEATHER_DELAY  NAS_DELAY  SECURITY_DELAY  \\\n",
       "0       0.0            NaN            NaN        NaN             NaN   \n",
       "1       0.0            NaN            NaN        NaN             NaN   \n",
       "2       0.0            NaN            NaN        NaN             NaN   \n",
       "3       0.0            2.0            0.0       20.0             0.0   \n",
       "4       0.0           62.0            0.0       27.0             0.0   \n",
       "\n",
       "   LATE_AIRCRAFT_DELAY  TOTAL_ADD_GTIME  LONGEST_ADD_GTIME  \\\n",
       "0                  NaN              NaN                NaN   \n",
       "1                  NaN              NaN                NaN   \n",
       "2                  NaN              NaN                NaN   \n",
       "3                  0.0              NaN                NaN   \n",
       "4                  0.0              8.0                8.0   \n",
       "\n",
       "             CARRIER_NAME  \n",
       "0  Frontier Airlines Inc.  \n",
       "1  Frontier Airlines Inc.  \n",
       "2  Frontier Airlines Inc.  \n",
       "3  Frontier Airlines Inc.  \n",
       "4  Frontier Airlines Inc.  "
      ]
     },
     "execution_count": 7,
     "metadata": {},
     "output_type": "execute_result"
    }
   ],
   "source": [
    "lean_df.head()"
   ]
  },
  {
   "cell_type": "markdown",
   "metadata": {},
   "source": [
    "## Feature engineering\n",
    "#### Create new indicator column for delay or no delay."
   ]
  },
  {
   "cell_type": "code",
   "execution_count": 8,
   "metadata": {
    "scrolled": false
   },
   "outputs": [
    {
     "data": {
      "text/plain": [
       "WN    670877\n",
       "DL    458572\n",
       "AA    455553\n",
       "OO    390376\n",
       "UA    299902\n",
       "YX    154967\n",
       "MQ    152116\n",
       "B6    148036\n",
       "OH    138891\n",
       "AS    124215\n",
       "9E    122099\n",
       "YV    108913\n",
       "NK     92235\n",
       "EV     77039\n",
       "F9     57916\n",
       "G4     48890\n",
       "HA     40680\n",
       "Name: OP_UNIQUE_CARRIER, dtype: int64"
      ]
     },
     "execution_count": 8,
     "metadata": {},
     "output_type": "execute_result"
    }
   ],
   "source": [
    "lean_df.OP_UNIQUE_CARRIER.value_counts()"
   ]
  },
  {
   "cell_type": "markdown",
   "metadata": {},
   "source": [
    "There are missing values wherever flight was cancelled - something to watch out for"
   ]
  },
  {
   "cell_type": "code",
   "execution_count": 13,
   "metadata": {},
   "outputs": [
    {
     "data": {
      "text/plain": [
       "False    3471127\n",
       "True       70150\n",
       "Name: DEP_DEL15, dtype: int64"
      ]
     },
     "execution_count": 13,
     "metadata": {},
     "output_type": "execute_result"
    }
   ],
   "source": [
    "pd.isnull(lean_df.DEP_DEL15).value_counts()"
   ]
  },
  {
   "cell_type": "code",
   "execution_count": 14,
   "metadata": {},
   "outputs": [
    {
     "data": {
      "text/plain": [
       "1.0    70150\n",
       "Name: CANCELLED, dtype: int64"
      ]
     },
     "execution_count": 14,
     "metadata": {},
     "output_type": "execute_result"
    }
   ],
   "source": [
    "lean_df.loc[(lean_df.DEP_DEL15.isnull()==True)].CANCELLED.value_counts()"
   ]
  },
  {
   "cell_type": "markdown",
   "metadata": {},
   "source": [
    "#### Create new df for only American Airlines and Not American Airlines"
   ]
  },
  {
   "cell_type": "code",
   "execution_count": 15,
   "metadata": {},
   "outputs": [],
   "source": [
    "AA_df = lean_df.loc[(lean_df.CARRIER_NAME=='American Airlines Inc.'),:]\n",
    "not_AA_df = lean_df.loc[(lean_df.CARRIER_NAME!='American Airlines Inc.'),:]"
   ]
  },
  {
   "cell_type": "markdown",
   "metadata": {},
   "source": [
    "#### Calculate proportions"
   ]
  },
  {
   "cell_type": "code",
   "execution_count": 20,
   "metadata": {},
   "outputs": [],
   "source": [
    "## proportions are commented out - these will be calculated in the t-test and are not needed.  \n",
    "AA_proportion = AA_df.loc[((AA_df.CARRIER_DELAY>0) & (AA_df.CANCELLED==0)),:].shape[0]/AA_df.loc[(AA_df.CANCELLED==0),:].shape[0]\n",
    "AA_delay = AA_df.loc[((AA_df.CARRIER_DELAY>0) & (AA_df.CANCELLED==0)),:].shape[0]\n",
    "AA_nobs = AA_df.loc[(AA_df.CANCELLED==0),:].shape[0]\n",
    "\n",
    "not_AA_proportion = not_AA_df.loc[((not_AA_df.CARRIER_DELAY>0) & (not_AA_df.CANCELLED==0)),:].shape[0]/not_AA_df.loc[(not_AA_df.CANCELLED==0),:].shape[0]\n",
    "not_AA_delay = not_AA_df.loc[((not_AA_df.CARRIER_DELAY>0) & (not_AA_df.CANCELLED==0)),:].shape[0]\n",
    "not_AA_nobs = not_AA_df.loc[(not_AA_df.CANCELLED==0),:].shape[0]"
   ]
  },
  {
   "cell_type": "code",
   "execution_count": 21,
   "metadata": {
    "scrolled": true
   },
   "outputs": [
    {
     "data": {
      "text/plain": [
       "(0.10998516556172849, 0.09053454234433653, 49156, 273623, 446933, 3022305)"
      ]
     },
     "execution_count": 21,
     "metadata": {},
     "output_type": "execute_result"
    }
   ],
   "source": [
    "AA_proportion, not_AA_proportion, AA_delay, not_AA_delay, AA_nobs, not_AA_nobs"
   ]
  },
  {
   "cell_type": "markdown",
   "metadata": {},
   "source": [
    "#### Proportions Z-Test! Now we get to the good stuff!"
   ]
  },
  {
   "cell_type": "code",
   "execution_count": 158,
   "metadata": {
    "scrolled": true
   },
   "outputs": [
    {
     "data": {
      "text/plain": [
       "(41.78084798936522, 0.0)"
      ]
     },
     "execution_count": 158,
     "metadata": {},
     "output_type": "execute_result"
    }
   ],
   "source": [
    "zstat, pvalue = statsmodels.stats.proportion.proportions_ztest(count=[AA_success,not_AA_success], nobs=[AA_nobs,not_AA_nobs])\n",
    "zstat, pvalue"
   ]
  },
  {
   "cell_type": "markdown",
   "metadata": {},
   "source": [
    "P is approximatley zero so reject the null - difference between two proportions is significant. "
   ]
  },
  {
   "cell_type": "markdown",
   "metadata": {},
   "source": [
    "#### Moving on to anova for delays at DC area airports DCA/IAD/BWI\n",
    "Are cancellation rates uniform across airports?  "
   ]
  },
  {
   "cell_type": "code",
   "execution_count": 79,
   "metadata": {},
   "outputs": [],
   "source": [
    "DCA = AA_df.loc[((lean_df.ORIGIN=='DCA')&(lean_df.CANCELLED==0))]\n",
    "IAD = AA_df.loc[((lean_df.ORIGIN=='IAD')&(lean_df.CANCELLED==0))]\n",
    "BWI = AA_df.loc[((lean_df.ORIGIN=='BWI')&(lean_df.CANCELLED==0))]"
   ]
  },
  {
   "cell_type": "code",
   "execution_count": 42,
   "metadata": {},
   "outputs": [
    {
     "data": {
      "text/plain": [
       "B    33\n",
       "A    15\n",
       "Name: CANCELLATION_CODE, dtype: int64"
      ]
     },
     "execution_count": 42,
     "metadata": {},
     "output_type": "execute_result"
    }
   ],
   "source": [
    "# #A = carrier, B = weather, C = NAS, D = security\n",
    "# DCA.CANCELLATION_CODE.value_counts()\n",
    "# IAD.CANCELLATION_CODE.value_counts()\n",
    "# BWI.CANCELLATION_CODE.value_counts()"
   ]
  },
  {
   "cell_type": "code",
   "execution_count": 55,
   "metadata": {},
   "outputs": [
    {
     "data": {
      "text/plain": [
       "<matplotlib.axes._subplots.AxesSubplot at 0x1636afa4320>"
      ]
     },
     "execution_count": 55,
     "metadata": {},
     "output_type": "execute_result"
    },
    {
     "data": {
      "image/png": "[encoded data removed]",
      "text/plain": [
       "<Figure size 576x864 with 3 Axes>"
      ]
     },
     "metadata": {
      "needs_background": "light"
     },
     "output_type": "display_data"
    }
   ],
   "source": [
    "# decided to do delays instead of cancellations in keeping with the theme....\n",
    "plt.figure(figsize=(8,12))\n",
    "\n",
    "plt.subplot(311)\n",
    "DCA.DEP_DELAY_NEW.plot(kind='hist', bins=range(0, 150, 2))\n",
    "plt.subplot(312)\n",
    "IAD.DEP_DELAY_NEW.plot(kind='hist', bins=range(0, 150, 2))\n",
    "plt.subplot(313)\n",
    "BWI.DEP_DELAY_NEW.plot(kind='hist', bins=range(0, 150, 2))\n",
    "\n"
   ]
  },
  {
   "cell_type": "code",
   "execution_count": 102,
   "metadata": {},
   "outputs": [],
   "source": [
    "def central_limit_theorem_plotter(distribution, sample_size, num_samples):\n",
    "    sample_means = np.zeros(num_samples)\n",
    "    pop_std = distribution.std()\n",
    "    for idx, num in enumerate(range(num_samples)):\n",
    "        sample = np.random.choice(distribution, size=sample_size, replace=True)\n",
    "        sample_means[idx] = sample.mean()\n",
    "    return sample_means"
   ]
  },
  {
   "cell_type": "code",
   "execution_count": 117,
   "metadata": {},
   "outputs": [],
   "source": [
    "DCA_s = central_limit_theorem_plotter(DCA.DEP_DELAY_NEW, 100, 1000)\n",
    "IAD_s = central_limit_theorem_plotter(IAD.DEP_DELAY_NEW, 100, 1000)\n",
    "BWI_s = central_limit_theorem_plotter(BWI.DEP_DELAY_NEW, 100, 1000)"
   ]
  },
  {
   "cell_type": "markdown",
   "metadata": {},
   "source": [
    "Check for homoscedasticity  - This appears to fail levene test for equal variance.  Bah.  Looks like we can't assume that.\n",
    "\n",
    "will use Kruskal-Wallis H-test instead - this is non parametric version of one-way anova test.  "
   ]
  },
  {
   "cell_type": "code",
   "execution_count": 122,
   "metadata": {},
   "outputs": [
    {
     "data": {
      "text/plain": [
       "LeveneResult(statistic=64.06413411416847, pvalue=5.696592259087258e-28)"
      ]
     },
     "execution_count": 122,
     "metadata": {},
     "output_type": "execute_result"
    }
   ],
   "source": [
    "stats.levene(DCA_s, IAD_s, BWI_s)"
   ]
  },
  {
   "cell_type": "code",
   "execution_count": 123,
   "metadata": {},
   "outputs": [
    {
     "data": {
      "text/plain": [
       "KruskalResult(statistic=201.19728630038023, pvalue=2.0443930360411066e-44)"
      ]
     },
     "execution_count": 123,
     "metadata": {},
     "output_type": "execute_result"
    }
   ],
   "source": [
    "stats.kruskal(DCA_s, IAD_s, BWI_s)"
   ]
  },
  {
   "cell_type": "markdown",
   "metadata": {},
   "source": [
    "Post-hoc methods - Tukey's Test"
   ]
  },
  {
   "cell_type": "code",
   "execution_count": null,
   "metadata": {},
   "outputs": [],
   "source": [
    "mc = MultiComparison(, )\n",
    "result = mc.tukeyhsd()\n",
    " \n",
    "print(result)\n",
    "print(mc.groupsunique)"
   ]
  }
 ],
 "metadata": {
  "kernelspec": {
   "display_name": "Python 3",
   "language": "python",
   "name": "python3"
  },
  "language_info": {
   "codemirror_mode": {
    "name": "ipython",
    "version": 3
   },
   "file_extension": ".py",
   "mimetype": "text/x-python",
   "name": "python",
   "nbconvert_exporter": "python",
   "pygments_lexer": "ipython3",
   "version": "3.7.3"
  }
 },
 "nbformat": 4,
 "nbformat_minor": 2
}
