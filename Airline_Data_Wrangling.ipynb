{
 "cells": [
  {
   "cell_type": "markdown",
   "metadata": {},
   "source": [
    "## Subsetting/Trimming Data"
   ]
  },
  {
   "cell_type": "code",
   "execution_count": null,
   "metadata": {},
   "outputs": [],
   "source": [
    "## Separate table with keys for UNIQUE_CARRIER codes\n",
    "airline_names_key = pd.read_csv('flight_data_zipped_files/airline_name_and_code_key.zip', names = ['OP_UNIQUE_CARRIER', 'CARRIER_NAME'])"
   ]
  },
  {
   "cell_type": "code",
   "execution_count": null,
   "metadata": {},
   "outputs": [],
   "source": [
    "df = file_read_in(\"../flight_data/\")\n",
    "df = df.merge(airline_names_key, how='left', on='OP_UNIQUE_CARRIER')\n",
    "df.head()"
   ]
  },
  {
   "cell_type": "code",
   "execution_count": null,
   "metadata": {},
   "outputs": [],
   "source": [
    "## All American Airlines Data\n",
    "\n",
    "AA = df.loc[(df.OP_UNIQUE_CARRIER == 'AA')]\n",
    "\n",
    "## All data excluding American Airlines\n",
    "pop = df.loc[(df.OP_UNIQUE_CARRIER != 'AA')]"
   ]
  },
  {
   "cell_type": "code",
   "execution_count": null,
   "metadata": {},
   "outputs": [],
   "source": [
    "## Extraneous columns to be removed from dataset relating to strictly delayed \n",
    "drop = ['TAIL_NUM',\n",
    "        'OP_CARRIER_FL_NUM', 'ORIGIN_AIRPORT_ID', 'ORIGIN_AIRPORT_SEQ_ID',\n",
    "        'ORIGIN_CITY_MARKET_ID', 'ORIGIN', 'ORIGIN_CITY_NAME',\n",
    "        'ORIGIN_STATE_ABR', 'ORIGIN_STATE_FIPS', 'ORIGIN_STATE_NM',\n",
    "        'ORIGIN_WAC', 'DEST_AIRPORT_ID', 'DEST_AIRPORT_SEQ_ID',\n",
    "        'DEST_CITY_MARKET_ID', 'DEST', 'DEST_CITY_NAME', 'DEST_STATE_ABR',\n",
    "        'DEST_STATE_FIPS', 'DEST_STATE_NM', 'DEST_WAC', 'CRS_DEP_TIME',\n",
    "        'DEP_TIME', 'DEP_DELAY_GROUP', 'DEP_TIME_BLK', 'TAXI_OUT', 'WHEELS_OFF',\n",
    "        'WHEELS_ON', 'ARR_TIME', 'FIRST_DEP_TIME',\n",
    "        'TOTAL_ADD_GTIME', 'LONGEST_ADD_GTIME', 'Unnamed: 55']\n",
    "\n",
    "## Dropping extraneous columns defined above\n",
    "pop = pop.drop(columns = drop)\n",
    "\n",
    "## Double checking that new dataframe has appropriate columns\n",
    "pop.columns"
   ]
  },
  {
   "cell_type": "code",
   "execution_count": null,
   "metadata": {},
   "outputs": [],
   "source": [
    "## How many rows of data per airline\n",
    "pop.OP_UNIQUE_CARRIER.value_counts()\n",
    "\n",
    "## Confirming that we are getting the data we expect to get in the DF\n",
    "df.groupby([df.OP_UNIQUE_CARRIER]).nunique() "
   ]
  },
  {
   "cell_type": "markdown",
   "metadata": {},
   "source": [
    "## Checking out distributions of raw data"
   ]
  },
  {
   "cell_type": "markdown",
   "metadata": {},
   "source": [
    "American Airlines raw and filtered data (on DELAY = 1, meaning a delay occured)"
   ]
  },
  {
   "cell_type": "code",
   "execution_count": null,
   "metadata": {},
   "outputs": [],
   "source": [
    "##  Histogram of carrier delays (minutes) for American Airlines.\n",
    "AA.CARRIER_DELAY.hist(bins = range(0,150, 2))\n"
   ]
  },
  {
   "cell_type": "markdown",
   "metadata": {},
   "source": [
    "Think I need to get rid of zero-values and answer the question: \n",
    "\"When there IS a carrier delay, is AA mean C.D.T greater than the population's?\""
   ]
  },
  {
   "cell_type": "code",
   "execution_count": null,
   "metadata": {},
   "outputs": [],
   "source": [
    "sns.set(color_codes=True)\n",
    "sns.set(rc={'figure.figsize':(12,10)})\n",
    "sns.distplot(AA.CARRIER_DELAY.loc[AA.ARR_DEL15 == 1], bins = range(0,250, 10))\n"
   ]
  },
  {
   "cell_type": "code",
   "execution_count": null,
   "metadata": {},
   "outputs": [],
   "source": [
    "sns.set(color_codes=True)\n",
    "sns.set(rc={'figure.figsize':(12,10)})\n",
    "sns.set_style(\"ticks\", {\"xtick.major.size\":50, \"ytick.major.size\":50})\n",
    "ax = sns.distplot(AA.CARRIER_DELAY.loc[(AA.ARR_DEL15 == 1) & (AA.CARRIER_DELAY != 0)], bins = range(0,250, 10))\n",
    "ax.set_title('American Airlines - Carrier Delay Time Distribution', {'fontsize': 20,\n",
    "        'fontweight' : 12,\n",
    "        'verticalalignment': 'baseline'})\n",
    "ax.set_xlabel('Delay Times (minutes)', fontdict={'fontsize' : 15})"
   ]
  },
  {
   "cell_type": "markdown",
   "metadata": {},
   "source": [
    "Remaining carriers raw and filtered data (on DELAY = 1, meaning a delay occured)"
   ]
  },
  {
   "cell_type": "code",
   "execution_count": null,
   "metadata": {},
   "outputs": [],
   "source": [
    "pop.CARRIER_DELAY.hist(bins = range(0,150, 2))"
   ]
  },
  {
   "cell_type": "code",
   "execution_count": null,
   "metadata": {},
   "outputs": [],
   "source": [
    "sns.set(color_codes=True)\n",
    "sns.set(rc={'figure.figsize':(12,10)})\n",
    "sns.distplot(pop.CARRIER_DELAY.loc[pop.ARR_DEL15 == 1], bins = range(0,250, 10))"
   ]
  },
  {
   "cell_type": "code",
   "execution_count": null,
   "metadata": {},
   "outputs": [],
   "source": [
    "sns.set(color_codes=True)\n",
    "sns.set(rc={'figure.figsize':(12,10)})\n",
    "sns.distplot(pop.CARRIER_DELAY.loc[(pop.ARR_DEL15 == 1) & (pop.CARRIER_DELAY != 0)], bins = range(0,250, 10))"
   ]
  },
  {
   "cell_type": "markdown",
   "metadata": {},
   "source": [
    "### Joe's dataframes: "
   ]
  },
  {
   "cell_type": "code",
   "execution_count": null,
   "metadata": {},
   "outputs": [],
   "source": [
    "lean_df = df.drop(columns = ['QUARTER', 'OP_CARRIER_AIRLINE_ID','TAIL_NUM', 'OP_CARRIER_FL_NUM', 'DEST_WAC', 'DEST_STATE_FIPS', 'ORIGIN_CITY_MARKET_ID', 'Unnamed: 55', 'FIRST_DEP_TIME', 'ARR_TIME_BLK', 'DEST_AIRPORT_SEQ_ID', 'DEST_AIRPORT_ID', 'ORIGIN_AIRPORT_SEQ_ID', 'ORIGIN_AIRPORT_ID'])\n",
    "\n",
    "AA_df = lean_df.loc[(lean_df.CARRIER_NAME=='American Airlines Inc.'),:]\n",
    "not_AA_df = lean_df.loc[(lean_df.CARRIER_NAME!='American Airlines Inc.')]\n",
    "# everyone but american/delta/southwest/united\n",
    "not_top_4_df = lean_df.loc[((lean_df.CARRIER_NAME!='American Airlines Inc.')|(lean_df.CARRIER_NAME!='United Air Lines Inc.')|(lean_df.CARRIER_NAME!='Southwest Airlines Co.')|(lean_df.CARRIER_NAME=='Delta Air Lines Inc.'))]\n",
    "# delta/united/southwest\n",
    "top_3_df = lean_df.loc[((lean_df.CARRIER_NAME=='Delta Air Lines Inc.')|(lean_df.CARRIER_NAME=='United Air Lines Inc.')|(lean_df.CARRIER_NAME=='Southwest Airlines Co.'))]"
   ]
  }
 ],
 "metadata": {
  "kernelspec": {
   "display_name": "Python 3",
   "language": "python",
   "name": "python3"
  },
  "language_info": {
   "codemirror_mode": {
    "name": "ipython",
    "version": 3
   },
   "file_extension": ".py",
   "mimetype": "text/x-python",
   "name": "python",
   "nbconvert_exporter": "python",
   "pygments_lexer": "ipython3",
   "version": "3.7.3"
  }
 },
 "nbformat": 4,
 "nbformat_minor": 2
}
